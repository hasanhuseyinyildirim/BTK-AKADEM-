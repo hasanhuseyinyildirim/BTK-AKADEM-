{
 "cells": [
  {
   "cell_type": "code",
   "execution_count": 1,
   "id": "28497d58",
   "metadata": {},
   "outputs": [
    {
     "name": "stdout",
     "output_type": "stream",
     "text": [
      "['ali', 'can', 'miray', 'zeynep']\n"
     ]
    }
   ],
   "source": [
    "liste = [\"ali\",\"can\",\"miray\",\"zeynep\"]\n",
    "print(liste)"
   ]
  },
  {
   "cell_type": "code",
   "execution_count": 2,
   "id": "4117e9a5",
   "metadata": {},
   "outputs": [],
   "source": [
    "liste2 =[1,2,3,4,5]"
   ]
  },
  {
   "cell_type": "code",
   "execution_count": 3,
   "id": "f0b7e9a1",
   "metadata": {},
   "outputs": [
    {
     "data": {
      "text/plain": [
       "[1, 2, 3, 4, 5]"
      ]
     },
     "execution_count": 3,
     "metadata": {},
     "output_type": "execute_result"
    }
   ],
   "source": [
    "liste2"
   ]
  },
  {
   "cell_type": "code",
   "execution_count": 4,
   "id": "2ef3f959",
   "metadata": {},
   "outputs": [
    {
     "name": "stdout",
     "output_type": "stream",
     "text": [
      "[1, 2, 3, 4, 5]\n"
     ]
    }
   ],
   "source": [
    "print(liste2)"
   ]
  },
  {
   "cell_type": "code",
   "execution_count": 5,
   "id": "afb9c78d",
   "metadata": {},
   "outputs": [
    {
     "name": "stdout",
     "output_type": "stream",
     "text": [
      "python\n"
     ]
    }
   ],
   "source": [
    "liste3=\"python\"\n",
    "print(liste3)\n"
   ]
  },
  {
   "cell_type": "code",
   "execution_count": 6,
   "id": "8b43f595",
   "metadata": {},
   "outputs": [
    {
     "data": {
      "text/plain": [
       "range(1, 10, 2)"
      ]
     },
     "execution_count": 6,
     "metadata": {},
     "output_type": "execute_result"
    }
   ],
   "source": [
    "range(1,10,2)"
   ]
  },
  {
   "cell_type": "code",
   "execution_count": 10,
   "id": "9431b47f",
   "metadata": {},
   "outputs": [
    {
     "name": "stdout",
     "output_type": "stream",
     "text": [
      "10\n",
      "8\n",
      "6\n",
      "4\n",
      "2\n"
     ]
    }
   ],
   "source": [
    "for a in range(10,1,-2):\n",
    "    print(a)"
   ]
  },
  {
   "cell_type": "code",
   "execution_count": 11,
   "id": "f54ee581",
   "metadata": {},
   "outputs": [
    {
     "data": {
      "text/plain": [
       "[0, 1, 2, 3]"
      ]
     },
     "execution_count": 11,
     "metadata": {},
     "output_type": "execute_result"
    }
   ],
   "source": [
    "list(range(0,4))"
   ]
  },
  {
   "cell_type": "code",
   "execution_count": 13,
   "id": "7e23b30d",
   "metadata": {},
   "outputs": [
    {
     "name": "stdout",
     "output_type": "stream",
     "text": [
      "10\n",
      "8\n",
      "6\n",
      "4\n",
      "2\n"
     ]
    }
   ],
   "source": [
    "for a in range(10,1,-2):\n",
    "            print(a)"
   ]
  },
  {
   "cell_type": "code",
   "execution_count": 14,
   "id": "78e651b5",
   "metadata": {},
   "outputs": [
    {
     "name": "stdout",
     "output_type": "stream",
     "text": [
      "1 tek sayidir\n",
      "3 tek sayidir\n",
      "5 tek sayidir\n",
      "7 tek sayidir\n",
      "9 tek sayidir\n",
      "11 tek sayidir\n",
      "13 tek sayidir\n",
      "15 tek sayidir\n",
      "17 tek sayidir\n",
      "19 tek sayidir\n",
      "21 tek sayidir\n",
      "23 tek sayidir\n",
      "25 tek sayidir\n",
      "27 tek sayidir\n",
      "29 tek sayidir\n"
     ]
    }
   ],
   "source": [
    "for x in range(1,30):\n",
    "    if x%2 == 1:\n",
    "        print(f\"{x} tek sayidir\")"
   ]
  },
  {
   "cell_type": "code",
   "execution_count": 17,
   "id": "fc5e8779",
   "metadata": {},
   "outputs": [
    {
     "name": "stdout",
     "output_type": "stream",
     "text": [
      "Çıkış için sıfıra basın\n",
      "1 karesi  1\n",
      "2 karesi  4\n",
      "3 karesi  9\n",
      "4 karesi  16\n",
      "5 karesi  25\n",
      "6 karesi  36\n",
      "7 karesi  49\n",
      "8 karesi  64\n",
      "9 karesi  81\n",
      "0 karesi  0\n",
      "Güle Güle!!\n"
     ]
    }
   ],
   "source": [
    "x=1\n",
    "print(\"Çıkış için sıfıra basın\")\n",
    "while(x!=0):\n",
    "    x=int(input(\"Sayı Giriniz..:\"))\n",
    "    print(f\"{x} karesi \",x*x)\n",
    "print(\"Güle Güle!!\")"
   ]
  },
  {
   "cell_type": "code",
   "execution_count": 30,
   "id": "a85d3a7c",
   "metadata": {},
   "outputs": [
    {
     "name": "stdout",
     "output_type": "stream",
     "text": [
      "[1, 2, 3, 4, 5, 6, 8, 9, 10, 11, 12, 13, 15, 16, 17, 18, 19, 20, 22, 23, 24, 25, 26, 27, 29, 30, 31, 32, 33, 34, 36, 37, 38, 39, 40, 41, 43, 44, 45, 46, 47, 48, 50, 51, 52, 53, 54, 55, 57, 58, 59, 60, 61, 62, 64, 65, 66, 67, 68, 69, 71, 72, 73, 74, 75, 76, 78, 79, 80, 81, 82, 83, 85, 86, 87, 88, 89, 90, 92, 93, 94, 95, 96, 97, 99]\n"
     ]
    }
   ],
   "source": [
    "liste=[]\n",
    "for x in range(100):\n",
    "    if x%7==0:\n",
    "        continue\n",
    "    liste.append(x)\n",
    "print(liste)\n",
    "    "
   ]
  },
  {
   "cell_type": "code",
   "execution_count": 36,
   "id": "94fccc30",
   "metadata": {},
   "outputs": [
    {
     "name": "stdout",
     "output_type": "stream",
     "text": [
      "1 x 1 = 1\n",
      "1 x 2 = 2\n",
      "1 x 3 = 3\n",
      "1 x 4 = 4\n",
      "1 x 5 = 5\n",
      "1 x 6 = 6\n",
      "1 x 7 = 7\n",
      "1 x 8 = 8\n",
      "1 x 9 = 9\n",
      "1 x 10 = 10\n",
      "\n",
      "\n",
      "2 x 1 = 2\n",
      "2 x 2 = 4\n",
      "2 x 3 = 6\n",
      "2 x 4 = 8\n",
      "2 x 5 = 10\n",
      "2 x 6 = 12\n",
      "2 x 7 = 14\n",
      "2 x 8 = 16\n",
      "2 x 9 = 18\n",
      "2 x 10 = 20\n",
      "\n",
      "\n",
      "3 x 1 = 3\n",
      "3 x 2 = 6\n",
      "3 x 3 = 9\n",
      "3 x 4 = 12\n",
      "3 x 5 = 15\n",
      "3 x 6 = 18\n",
      "3 x 7 = 21\n",
      "3 x 8 = 24\n",
      "3 x 9 = 27\n",
      "3 x 10 = 30\n",
      "\n",
      "\n",
      "4 x 1 = 4\n",
      "4 x 2 = 8\n",
      "4 x 3 = 12\n",
      "4 x 4 = 16\n",
      "4 x 5 = 20\n",
      "4 x 6 = 24\n",
      "4 x 7 = 28\n",
      "4 x 8 = 32\n",
      "4 x 9 = 36\n",
      "4 x 10 = 40\n",
      "\n",
      "\n",
      "5 x 1 = 5\n",
      "5 x 2 = 10\n",
      "5 x 3 = 15\n",
      "5 x 4 = 20\n",
      "5 x 5 = 25\n",
      "5 x 6 = 30\n",
      "5 x 7 = 35\n",
      "5 x 8 = 40\n",
      "5 x 9 = 45\n",
      "5 x 10 = 50\n",
      "\n",
      "\n",
      "6 x 1 = 6\n",
      "6 x 2 = 12\n",
      "6 x 3 = 18\n",
      "6 x 4 = 24\n",
      "6 x 5 = 30\n",
      "6 x 6 = 36\n",
      "6 x 7 = 42\n",
      "6 x 8 = 48\n",
      "6 x 9 = 54\n",
      "6 x 10 = 60\n",
      "\n",
      "\n",
      "7 x 1 = 7\n",
      "7 x 2 = 14\n",
      "7 x 3 = 21\n",
      "7 x 4 = 28\n",
      "7 x 5 = 35\n",
      "7 x 6 = 42\n",
      "7 x 7 = 49\n",
      "7 x 8 = 56\n",
      "7 x 9 = 63\n",
      "7 x 10 = 70\n",
      "\n",
      "\n",
      "8 x 1 = 8\n",
      "8 x 2 = 16\n",
      "8 x 3 = 24\n",
      "8 x 4 = 32\n",
      "8 x 5 = 40\n",
      "8 x 6 = 48\n",
      "8 x 7 = 56\n",
      "8 x 8 = 64\n",
      "8 x 9 = 72\n",
      "8 x 10 = 80\n",
      "\n",
      "\n",
      "9 x 1 = 9\n",
      "9 x 2 = 18\n",
      "9 x 3 = 27\n",
      "9 x 4 = 36\n",
      "9 x 5 = 45\n",
      "9 x 6 = 54\n",
      "9 x 7 = 63\n",
      "9 x 8 = 72\n",
      "9 x 9 = 81\n",
      "9 x 10 = 90\n",
      "\n",
      "\n",
      "10 x 1 = 10\n",
      "10 x 2 = 20\n",
      "10 x 3 = 30\n",
      "10 x 4 = 40\n",
      "10 x 5 = 50\n",
      "10 x 6 = 60\n",
      "10 x 7 = 70\n",
      "10 x 8 = 80\n",
      "10 x 9 = 90\n",
      "10 x 10 = 100\n",
      "\n",
      "\n"
     ]
    }
   ],
   "source": [
    "\n",
    "for A in range(1,11):\n",
    "    for B in range(1,11):\n",
    "        print(A,\"x\",B,\"=\",A*B)\n",
    "    print(\"\\n\")"
   ]
  },
  {
   "cell_type": "code",
   "execution_count": 37,
   "id": "68063059",
   "metadata": {},
   "outputs": [
    {
     "name": "stdout",
     "output_type": "stream",
     "text": [
      "0\n",
      "2\n",
      "4\n",
      "6\n",
      "8\n"
     ]
    }
   ],
   "source": [
    "for x in range(0,10,2):\n",
    "    print(x)"
   ]
  },
  {
   "cell_type": "code",
   "execution_count": 43,
   "id": "e5caaf0a",
   "metadata": {},
   "outputs": [
    {
     "name": "stdout",
     "output_type": "stream",
     "text": [
      "0\n",
      "2\n",
      "4\n",
      "8\n"
     ]
    }
   ],
   "source": [
    "for x in range(0,10,2):\n",
    "    if x==6:\n",
    "        continue\n",
    "    print(x)"
   ]
  },
  {
   "cell_type": "code",
   "execution_count": 44,
   "id": "6ea2289e",
   "metadata": {},
   "outputs": [],
   "source": [
    "def selamlama(isim):\n",
    "    print(\"Sayın\",isim,\"Restoranımıza Hoşgeldiniz\")\n",
    "\n",
    "    "
   ]
  },
  {
   "cell_type": "code",
   "execution_count": 47,
   "id": "bb3fc0b8",
   "metadata": {},
   "outputs": [
    {
     "name": "stdout",
     "output_type": "stream",
     "text": [
      "Sayın Hasan Restoranımıza Hoşgeldiniz\n",
      "Sayın Mehmet Restoranımıza Hoşgeldiniz\n",
      "Sayın Yüksel Restoranımıza Hoşgeldiniz\n",
      "Sayın Eren Restoranımıza Hoşgeldiniz\n",
      "Sayın Dur Restoranımıza Hoşgeldiniz\n"
     ]
    }
   ],
   "source": [
    "while True:\n",
    "    ad=input(\"İsminiz Nedir?\")\n",
    "    if(ad==\"dur\"):\n",
    "        break\n",
    "    selamlama(ad)"
   ]
  },
  {
   "cell_type": "code",
   "execution_count": 48,
   "id": "4ed11449",
   "metadata": {},
   "outputs": [],
   "source": [
    "def selamlama(isim=\"hasan\"):\n",
    "    print(\"Sayın\",isim,\"Restoranımıza Hoşgeldiniz\")\n"
   ]
  },
  {
   "cell_type": "code",
   "execution_count": 49,
   "id": "ebbd16cc",
   "metadata": {},
   "outputs": [
    {
     "name": "stdout",
     "output_type": "stream",
     "text": [
      "Sayın hasan Restoranımıza Hoşgeldiniz\n"
     ]
    }
   ],
   "source": [
    "selamlama()"
   ]
  },
  {
   "cell_type": "code",
   "execution_count": 50,
   "id": "58cc46cf",
   "metadata": {},
   "outputs": [
    {
     "ename": "NameError",
     "evalue": "name 'huseyin' is not defined",
     "output_type": "error",
     "traceback": [
      "\u001b[31m---------------------------------------------------------------------------\u001b[39m",
      "\u001b[31mNameError\u001b[39m                                 Traceback (most recent call last)",
      "\u001b[36mCell\u001b[39m\u001b[36m \u001b[39m\u001b[32mIn[50]\u001b[39m\u001b[32m, line 1\u001b[39m\n\u001b[32m----> \u001b[39m\u001b[32m1\u001b[39m selamlama(\u001b[43mhuseyin\u001b[49m)\n",
      "\u001b[31mNameError\u001b[39m: name 'huseyin' is not defined"
     ]
    }
   ],
   "source": [
    "selamlama(huseyin)"
   ]
  },
  {
   "cell_type": "code",
   "execution_count": 51,
   "id": "9b6fff85",
   "metadata": {},
   "outputs": [
    {
     "name": "stdout",
     "output_type": "stream",
     "text": [
      "Sayın huseyin Restoranımıza Hoşgeldiniz\n"
     ]
    }
   ],
   "source": [
    "selamlama(\"huseyin\")"
   ]
  },
  {
   "cell_type": "code",
   "execution_count": 52,
   "id": "c5ec9673",
   "metadata": {},
   "outputs": [],
   "source": [
    "def alan(e,b):\n",
    "    return e*b\n",
    "def cevre(e,b):\n",
    "    return 2*(e+b)"
   ]
  },
  {
   "cell_type": "code",
   "execution_count": 53,
   "id": "d38cfc63",
   "metadata": {},
   "outputs": [
    {
     "name": "stdout",
     "output_type": "stream",
     "text": [
      "Dikdörtgenin alanı: 50 metrekare\n",
      "Dikdörtgenin çevresi: 30 metre\n"
     ]
    }
   ],
   "source": [
    "e =int(input(\"Dikdörtgenin kısa kenarını gir:\"))\n",
    "b=int(input(\"Dikdörtgenin uzun kenarını gir:\"))\n",
    "print(\"Dikdörtgenin alanı:\",alan(e,b),\"metrekare\")\n",
    "print(\"Dikdörtgenin çevresi:\",cevre(e,b),\"metre\")"
   ]
  },
  {
   "cell_type": "code",
   "execution_count": null,
   "id": "deda3c8d",
   "metadata": {},
   "outputs": [],
   "source": [
    "def toplam():\n",
    "    a=5\n",
    "    b=6\n",
    "    return a+b"
   ]
  },
  {
   "cell_type": "code",
   "execution_count": null,
   "id": "4877943f",
   "metadata": {},
   "outputs": [
    {
     "name": "stdout",
     "output_type": "stream",
     "text": [
      "11\n"
     ]
    }
   ],
   "source": [
    "\n",
    "print(toplam())"
   ]
  },
  {
   "cell_type": "code",
   "execution_count": 60,
   "id": "6fede246",
   "metadata": {},
   "outputs": [
    {
     "name": "stdout",
     "output_type": "stream",
     "text": [
      "5\n"
     ]
    }
   ],
   "source": [
    "print(a)"
   ]
  },
  {
   "cell_type": "code",
   "execution_count": 61,
   "id": "06f41695",
   "metadata": {},
   "outputs": [
    {
     "name": "stdout",
     "output_type": "stream",
     "text": [
      "\f\n"
     ]
    }
   ],
   "source": [
    "clear"
   ]
  },
  {
   "cell_type": "code",
   "execution_count": 62,
   "id": "d1ecb3ac",
   "metadata": {},
   "outputs": [
    {
     "data": {
      "text/plain": [
       "5"
      ]
     },
     "execution_count": 62,
     "metadata": {},
     "output_type": "execute_result"
    }
   ],
   "source": [
    "a\n"
   ]
  },
  {
   "cell_type": "code",
   "execution_count": 63,
   "id": "ec025c60",
   "metadata": {},
   "outputs": [
    {
     "name": "stdout",
     "output_type": "stream",
     "text": [
      "\f\n"
     ]
    }
   ],
   "source": [
    "clear all"
   ]
  },
  {
   "cell_type": "code",
   "execution_count": 64,
   "id": "2cc5c4db",
   "metadata": {},
   "outputs": [
    {
     "data": {
      "text/plain": [
       "5"
      ]
     },
     "execution_count": 64,
     "metadata": {},
     "output_type": "execute_result"
    }
   ],
   "source": [
    "a\n"
   ]
  },
  {
   "cell_type": "code",
   "execution_count": 81,
   "id": "ba68faff",
   "metadata": {},
   "outputs": [],
   "source": [
    "a=3\n",
    "b=2\n",
    "sum = lambda a,b:a+b"
   ]
  },
  {
   "cell_type": "code",
   "execution_count": 82,
   "id": "4adaea48",
   "metadata": {},
   "outputs": [
    {
     "data": {
      "text/plain": [
       "5"
      ]
     },
     "execution_count": 82,
     "metadata": {},
     "output_type": "execute_result"
    }
   ],
   "source": [
    "sum(a,b)"
   ]
  },
  {
   "cell_type": "code",
   "execution_count": 83,
   "id": "05e3f2bd",
   "metadata": {},
   "outputs": [
    {
     "name": "stdout",
     "output_type": "stream",
     "text": [
      "<function <lambda> at 0x000002985E6F7880>\n"
     ]
    }
   ],
   "source": [
    "print(sum)"
   ]
  },
  {
   "cell_type": "code",
   "execution_count": 84,
   "id": "57bd35e3",
   "metadata": {},
   "outputs": [],
   "source": [
    "def ustel(a,b):\n",
    "    if b==0:\n",
    "        return 1\n",
    "    else:\n",
    "        return a*ustel(a,b-1)"
   ]
  },
  {
   "cell_type": "code",
   "execution_count": null,
   "id": "91486b02",
   "metadata": {},
   "outputs": [
    {
     "name": "stdout",
     "output_type": "stream",
     "text": [
      "16\n"
     ]
    }
   ],
   "source": [
    "print(ustel(2,4))"
   ]
  },
  {
   "cell_type": "code",
   "execution_count": 86,
   "id": "74c4acc6",
   "metadata": {},
   "outputs": [],
   "source": [
    "s=\"python\"\n"
   ]
  },
  {
   "cell_type": "code",
   "execution_count": 87,
   "id": "88d0e636",
   "metadata": {},
   "outputs": [
    {
     "data": {
      "text/plain": [
       "'python'"
      ]
     },
     "execution_count": 87,
     "metadata": {},
     "output_type": "execute_result"
    }
   ],
   "source": [
    "s"
   ]
  },
  {
   "cell_type": "code",
   "execution_count": 88,
   "id": "5f77c39b",
   "metadata": {},
   "outputs": [
    {
     "data": {
      "text/plain": [
       "'python'"
      ]
     },
     "execution_count": 88,
     "metadata": {},
     "output_type": "execute_result"
    }
   ],
   "source": [
    "s[:]"
   ]
  },
  {
   "cell_type": "code",
   "execution_count": 89,
   "id": "9b940324",
   "metadata": {},
   "outputs": [
    {
     "data": {
      "text/plain": [
       "'hon'"
      ]
     },
     "execution_count": 89,
     "metadata": {},
     "output_type": "execute_result"
    }
   ],
   "source": [
    "s[3:]"
   ]
  },
  {
   "cell_type": "code",
   "execution_count": 90,
   "id": "60567e46",
   "metadata": {},
   "outputs": [
    {
     "data": {
      "text/plain": [
       "'pyt'"
      ]
     },
     "execution_count": 90,
     "metadata": {},
     "output_type": "execute_result"
    }
   ],
   "source": [
    "s[:3]"
   ]
  },
  {
   "cell_type": "code",
   "execution_count": 91,
   "id": "3c1766bb",
   "metadata": {},
   "outputs": [
    {
     "data": {
      "text/plain": [
       "'ytho'"
      ]
     },
     "execution_count": 91,
     "metadata": {},
     "output_type": "execute_result"
    }
   ],
   "source": [
    "s[1:5]"
   ]
  },
  {
   "cell_type": "code",
   "execution_count": 92,
   "id": "e7be1cf9",
   "metadata": {},
   "outputs": [
    {
     "data": {
      "text/plain": [
       "'yhn'"
      ]
     },
     "execution_count": 92,
     "metadata": {},
     "output_type": "execute_result"
    }
   ],
   "source": [
    "s[1::2]"
   ]
  },
  {
   "cell_type": "code",
   "execution_count": 93,
   "id": "46161a12",
   "metadata": {},
   "outputs": [
    {
     "data": {
      "text/plain": [
       "'yo'"
      ]
     },
     "execution_count": 93,
     "metadata": {},
     "output_type": "execute_result"
    }
   ],
   "source": [
    "s[1:6:3]"
   ]
  },
  {
   "cell_type": "code",
   "execution_count": 94,
   "id": "e7c2e7f6",
   "metadata": {},
   "outputs": [
    {
     "data": {
      "text/plain": [
       "'nohtyp'"
      ]
     },
     "execution_count": 94,
     "metadata": {},
     "output_type": "execute_result"
    }
   ],
   "source": [
    "s[::-1]"
   ]
  },
  {
   "cell_type": "code",
   "execution_count": 95,
   "id": "596f240d",
   "metadata": {},
   "outputs": [
    {
     "data": {
      "text/plain": [
       "'python'"
      ]
     },
     "execution_count": 95,
     "metadata": {},
     "output_type": "execute_result"
    }
   ],
   "source": [
    "s"
   ]
  },
  {
   "cell_type": "code",
   "execution_count": 96,
   "id": "70143f0e",
   "metadata": {},
   "outputs": [],
   "source": [
    "s=\"python\"\n",
    "s2=s[:3]+\"t\"+s[4:]"
   ]
  },
  {
   "cell_type": "code",
   "execution_count": 97,
   "id": "a786cbca",
   "metadata": {},
   "outputs": [
    {
     "data": {
      "text/plain": [
       "'pytton'"
      ]
     },
     "execution_count": 97,
     "metadata": {},
     "output_type": "execute_result"
    }
   ],
   "source": [
    "s2"
   ]
  },
  {
   "cell_type": "code",
   "execution_count": 98,
   "id": "9a3ca514",
   "metadata": {},
   "outputs": [],
   "source": [
    "Adres=\"Etlik-Ankara\""
   ]
  },
  {
   "cell_type": "code",
   "execution_count": 99,
   "id": "6ab56edb",
   "metadata": {},
   "outputs": [
    {
     "data": {
      "text/plain": [
       "'Etlik-Ankara'"
      ]
     },
     "execution_count": 99,
     "metadata": {},
     "output_type": "execute_result"
    }
   ],
   "source": [
    "Adres"
   ]
  },
  {
   "cell_type": "code",
   "execution_count": 104,
   "id": "b7f190ca",
   "metadata": {},
   "outputs": [],
   "source": [
    "Adres2=\"Balgat\"+Adres[5:]"
   ]
  },
  {
   "cell_type": "code",
   "execution_count": 105,
   "id": "bafeca9b",
   "metadata": {},
   "outputs": [
    {
     "data": {
      "text/plain": [
       "'Balgat-Ankara'"
      ]
     },
     "execution_count": 105,
     "metadata": {},
     "output_type": "execute_result"
    }
   ],
   "source": [
    "Adres2"
   ]
  },
  {
   "cell_type": "code",
   "execution_count": 106,
   "id": "5581e93b",
   "metadata": {},
   "outputs": [
    {
     "data": {
      "text/plain": [
       "'Etlik-Ankara'"
      ]
     },
     "execution_count": 106,
     "metadata": {},
     "output_type": "execute_result"
    }
   ],
   "source": [
    "Adres"
   ]
  },
  {
   "cell_type": "code",
   "execution_count": 107,
   "id": "73de7a66",
   "metadata": {},
   "outputs": [
    {
     "data": {
      "text/plain": [
       "'Balgat-Ankara'"
      ]
     },
     "execution_count": 107,
     "metadata": {},
     "output_type": "execute_result"
    }
   ],
   "source": [
    "Adres.replace(\"Etlik\",\"Balgat\")"
   ]
  },
  {
   "cell_type": "code",
   "execution_count": 108,
   "id": "c571abb3",
   "metadata": {},
   "outputs": [
    {
     "data": {
      "text/plain": [
       "'Etlik-Ankara'"
      ]
     },
     "execution_count": 108,
     "metadata": {},
     "output_type": "execute_result"
    }
   ],
   "source": [
    "Adres"
   ]
  },
  {
   "cell_type": "code",
   "execution_count": 109,
   "id": "ad30868d",
   "metadata": {},
   "outputs": [],
   "source": [
    "Adres=Adres.replace(\"Etlik\",\"Balgat\")"
   ]
  },
  {
   "cell_type": "code",
   "execution_count": 110,
   "id": "c7e4a8a8",
   "metadata": {},
   "outputs": [
    {
     "data": {
      "text/plain": [
       "'Balgat-Ankara'"
      ]
     },
     "execution_count": 110,
     "metadata": {},
     "output_type": "execute_result"
    }
   ],
   "source": [
    "Adres"
   ]
  },
  {
   "cell_type": "code",
   "execution_count": 111,
   "id": "6aaaac38",
   "metadata": {},
   "outputs": [
    {
     "name": "stdout",
     "output_type": "stream",
     "text": [
      "b\n",
      "t\n",
      "k\n",
      "a\n",
      "k\n",
      "a\n",
      "d\n",
      "e\n",
      "m\n",
      "i\n"
     ]
    }
   ],
   "source": [
    "d=\"btkakademi\"\n",
    "\n",
    "for x in d:\n",
    "    print(x)"
   ]
  },
  {
   "cell_type": "code",
   "execution_count": 115,
   "id": "9d31507b",
   "metadata": {},
   "outputs": [
    {
     "name": "stdout",
     "output_type": "stream",
     "text": [
      "k\n"
     ]
    }
   ],
   "source": [
    "a=\"\"\n",
    "s=0\n",
    "indis=int(input(\"indis değeri..:\"))\n",
    "for x in d:\n",
    "    if s==indis:\n",
    "        a=x\n",
    "    s+=1\n",
    "print(a)"
   ]
  },
  {
   "cell_type": "code",
   "execution_count": 118,
   "id": "3cb04455",
   "metadata": {},
   "outputs": [],
   "source": [
    "a=\"1_23_abc_deneme0\"\n"
   ]
  },
  {
   "cell_type": "code",
   "execution_count": 119,
   "id": "a1d0c51b",
   "metadata": {},
   "outputs": [
    {
     "data": {
      "text/plain": [
       "['1', '23', 'abc', 'deneme0']"
      ]
     },
     "execution_count": 119,
     "metadata": {},
     "output_type": "execute_result"
    }
   ],
   "source": [
    "a.split(\"_\")"
   ]
  },
  {
   "cell_type": "code",
   "execution_count": 120,
   "id": "9e1169bb",
   "metadata": {},
   "outputs": [
    {
     "data": {
      "text/plain": [
       "16"
      ]
     },
     "execution_count": 120,
     "metadata": {},
     "output_type": "execute_result"
    }
   ],
   "source": [
    "len(a)"
   ]
  },
  {
   "cell_type": "code",
   "execution_count": 121,
   "id": "90fc228a",
   "metadata": {},
   "outputs": [],
   "source": [
    "isim=\"Hasan\"\n",
    "soyad=\"Hasan\""
   ]
  },
  {
   "cell_type": "code",
   "execution_count": 122,
   "id": "77b79bfd",
   "metadata": {},
   "outputs": [
    {
     "data": {
      "text/plain": [
       "True"
      ]
     },
     "execution_count": 122,
     "metadata": {},
     "output_type": "execute_result"
    }
   ],
   "source": [
    "isim is soyad"
   ]
  },
  {
   "cell_type": "code",
   "execution_count": 123,
   "id": "4db1938e",
   "metadata": {},
   "outputs": [
    {
     "data": {
      "text/plain": [
       "False"
      ]
     },
     "execution_count": 123,
     "metadata": {},
     "output_type": "execute_result"
    }
   ],
   "source": [
    "isim is not soyad"
   ]
  },
  {
   "cell_type": "code",
   "execution_count": 124,
   "id": "ff766535",
   "metadata": {},
   "outputs": [
    {
     "ename": "SyntaxError",
     "evalue": "invalid syntax (172453082.py, line 1)",
     "output_type": "error",
     "traceback": [
      "  \u001b[36mCell\u001b[39m\u001b[36m \u001b[39m\u001b[32mIn[124]\u001b[39m\u001b[32m, line 1\u001b[39m\n\u001b[31m    \u001b[39m\u001b[31misim not is soyad\u001b[39m\n             ^\n\u001b[31mSyntaxError\u001b[39m\u001b[31m:\u001b[39m invalid syntax\n"
     ]
    }
   ],
   "source": [
    "isim not is soyad"
   ]
  },
  {
   "cell_type": "code",
   "execution_count": 125,
   "id": "8a13655d",
   "metadata": {},
   "outputs": [
    {
     "data": {
      "text/plain": [
       "'Hasan'"
      ]
     },
     "execution_count": 125,
     "metadata": {},
     "output_type": "execute_result"
    }
   ],
   "source": [
    "isim"
   ]
  },
  {
   "cell_type": "code",
   "execution_count": 126,
   "id": "e85825fb",
   "metadata": {},
   "outputs": [
    {
     "data": {
      "text/plain": [
       "'nasaH'"
      ]
     },
     "execution_count": 126,
     "metadata": {},
     "output_type": "execute_result"
    }
   ],
   "source": [
    "\"\".join(reversed(isim))"
   ]
  },
  {
   "cell_type": "code",
   "execution_count": 127,
   "id": "bbf10cd1",
   "metadata": {},
   "outputs": [
    {
     "data": {
      "text/plain": [
       "'Hasan'"
      ]
     },
     "execution_count": 127,
     "metadata": {},
     "output_type": "execute_result"
    }
   ],
   "source": [
    "\"\".join(isim)"
   ]
  },
  {
   "cell_type": "code",
   "execution_count": 128,
   "id": "d8df6fe6",
   "metadata": {},
   "outputs": [
    {
     "data": {
      "text/plain": [
       "'H_a_s_a_n'"
      ]
     },
     "execution_count": 128,
     "metadata": {},
     "output_type": "execute_result"
    }
   ],
   "source": [
    "\"_\".join(isim)"
   ]
  },
  {
   "cell_type": "code",
   "execution_count": 129,
   "id": "bc3f5c3e",
   "metadata": {},
   "outputs": [
    {
     "data": {
      "text/plain": [
       "'Hasan'"
      ]
     },
     "execution_count": 129,
     "metadata": {},
     "output_type": "execute_result"
    }
   ],
   "source": [
    "isim"
   ]
  },
  {
   "cell_type": "code",
   "execution_count": 130,
   "id": "45e767ae",
   "metadata": {},
   "outputs": [
    {
     "data": {
      "text/plain": [
       "<reversed at 0x2985cd47df0>"
      ]
     },
     "execution_count": 130,
     "metadata": {},
     "output_type": "execute_result"
    }
   ],
   "source": [
    "reversed(isim)"
   ]
  },
  {
   "cell_type": "code",
   "execution_count": 131,
   "id": "bf3c1b71",
   "metadata": {},
   "outputs": [
    {
     "data": {
      "text/plain": [
       "'H123a123s123a123n'"
      ]
     },
     "execution_count": 131,
     "metadata": {},
     "output_type": "execute_result"
    }
   ],
   "source": [
    "\"123\".join(isim)"
   ]
  },
  {
   "cell_type": "code",
   "execution_count": 132,
   "id": "f1307bb0",
   "metadata": {},
   "outputs": [
    {
     "data": {
      "text/plain": [
       "'Hasan'"
      ]
     },
     "execution_count": 132,
     "metadata": {},
     "output_type": "execute_result"
    }
   ],
   "source": [
    "isim"
   ]
  },
  {
   "cell_type": "code",
   "execution_count": 133,
   "id": "d1c68052",
   "metadata": {},
   "outputs": [],
   "source": [
    "a=\"denemeYanılMa\""
   ]
  },
  {
   "cell_type": "code",
   "execution_count": 134,
   "id": "faa43b34",
   "metadata": {},
   "outputs": [
    {
     "data": {
      "text/plain": [
       "'Denemeyanılma'"
      ]
     },
     "execution_count": 134,
     "metadata": {},
     "output_type": "execute_result"
    }
   ],
   "source": [
    "a.capitalize()"
   ]
  },
  {
   "cell_type": "code",
   "execution_count": 135,
   "id": "c30656ec",
   "metadata": {},
   "outputs": [
    {
     "ename": "SyntaxError",
     "evalue": "invalid syntax (1867547124.py, line 1)",
     "output_type": "error",
     "traceback": [
      "  \u001b[36mCell\u001b[39m\u001b[36m \u001b[39m\u001b[32mIn[135]\u001b[39m\u001b[32m, line 1\u001b[39m\n\u001b[31m    \u001b[39m\u001b[31m\"ene\" is in a\u001b[39m\n             ^\n\u001b[31mSyntaxError\u001b[39m\u001b[31m:\u001b[39m invalid syntax\n"
     ]
    }
   ],
   "source": [
    "\"ene\" is in a"
   ]
  },
  {
   "cell_type": "code",
   "execution_count": 136,
   "id": "f037066d",
   "metadata": {},
   "outputs": [
    {
     "data": {
      "text/plain": [
       "True"
      ]
     },
     "execution_count": 136,
     "metadata": {},
     "output_type": "execute_result"
    }
   ],
   "source": [
    "\"ene\" in a"
   ]
  },
  {
   "cell_type": "code",
   "execution_count": 137,
   "id": "12f5e94f",
   "metadata": {},
   "outputs": [
    {
     "data": {
      "text/plain": [
       "True"
      ]
     },
     "execution_count": 137,
     "metadata": {},
     "output_type": "execute_result"
    }
   ],
   "source": [
    "\"ans\" not in a"
   ]
  },
  {
   "cell_type": "code",
   "execution_count": 141,
   "id": "97472878",
   "metadata": {},
   "outputs": [
    {
     "name": "stdout",
     "output_type": "stream",
     "text": [
      "talat palindrom değildir\n"
     ]
    }
   ],
   "source": [
    "kelime=input(\"Bir kelime giriniz..:\")\n",
    "ters=kelime[::-1]\n",
    "\n",
    "if kelime is ters:\n",
    "    print(f\"{kelime} palindromdur\")\n",
    "else:\n",
    "    print(f\"{kelime} palindrom değildir\")"
   ]
  },
  {
   "cell_type": "code",
   "execution_count": 1,
   "id": "165a79e5",
   "metadata": {},
   "outputs": [],
   "source": [
    "a = input(\"harf giriniz\")"
   ]
  },
  {
   "cell_type": "code",
   "execution_count": 2,
   "id": "607d63ad",
   "metadata": {},
   "outputs": [
    {
     "data": {
      "text/plain": [
       "''"
      ]
     },
     "execution_count": 2,
     "metadata": {},
     "output_type": "execute_result"
    }
   ],
   "source": [
    "a"
   ]
  },
  {
   "cell_type": "code",
   "execution_count": 4,
   "id": "0442c715",
   "metadata": {},
   "outputs": [],
   "source": [
    "liste = [\"ali\",5,\"a\"]"
   ]
  },
  {
   "cell_type": "code",
   "execution_count": 5,
   "id": "e2ff54c8",
   "metadata": {},
   "outputs": [
    {
     "data": {
      "text/plain": [
       "['ali', 5, 'a']"
      ]
     },
     "execution_count": 5,
     "metadata": {},
     "output_type": "execute_result"
    }
   ],
   "source": [
    "liste"
   ]
  },
  {
   "cell_type": "code",
   "execution_count": 19,
   "id": "4cf1c326",
   "metadata": {},
   "outputs": [
    {
     "name": "stdout",
     "output_type": "stream",
     "text": [
      "L listenisin medyanı 20\n"
     ]
    }
   ],
   "source": [
    "L=[]\n",
    "\n",
    "for i in range(0,5):\n",
    "    sayi = int(input(\"SayıGiriniz...:\"))\n",
    "    L.append(sayi)\n",
    "\n",
    "L.sort()\n",
    "\n",
    "medyan=L[len(L)//2]\n",
    "\n",
    "print(\"L listenisin medyanı\",medyan)\n",
    "\n"
   ]
  },
  {
   "cell_type": "code",
   "execution_count": 20,
   "id": "53a0f6c0",
   "metadata": {},
   "outputs": [
    {
     "data": {
      "text/plain": [
       "[1, 15, 20, 48, 190]"
      ]
     },
     "execution_count": 20,
     "metadata": {},
     "output_type": "execute_result"
    }
   ],
   "source": [
    "L"
   ]
  },
  {
   "cell_type": "code",
   "execution_count": 21,
   "id": "4fb6042f",
   "metadata": {},
   "outputs": [
    {
     "name": "stdout",
     "output_type": "stream",
     "text": [
      "1.gün pzt\n",
      "2.gün salı\n",
      "3.gün çrş\n",
      "4.gün prş\n",
      "5.gün cuma\n",
      "6.gün cmt\n",
      "7.gün pzr\n"
     ]
    }
   ],
   "source": [
    "gun=[\"pzt\",\"salı\",\"çrş\",\"prş\",\"cuma\",\"cmt\",\"pzr\"]\n",
    "for i, deger in enumerate(gun):\n",
    "    print(str(i+1)+\".gün \"+deger)"
   ]
  },
  {
   "cell_type": "code",
   "execution_count": 23,
   "id": "d781d791",
   "metadata": {},
   "outputs": [
    {
     "data": {
      "text/plain": [
       "[1, 15, 20, 48, 190]"
      ]
     },
     "execution_count": 23,
     "metadata": {},
     "output_type": "execute_result"
    }
   ],
   "source": [
    "L"
   ]
  },
  {
   "cell_type": "code",
   "execution_count": 24,
   "id": "758d6021",
   "metadata": {},
   "outputs": [
    {
     "data": {
      "text/plain": [
       "1"
      ]
     },
     "execution_count": 24,
     "metadata": {},
     "output_type": "execute_result"
    }
   ],
   "source": [
    "L.pop(0)"
   ]
  },
  {
   "cell_type": "code",
   "execution_count": 25,
   "id": "2db32d2e",
   "metadata": {},
   "outputs": [
    {
     "data": {
      "text/plain": [
       "[15, 20, 48, 190]"
      ]
     },
     "execution_count": 25,
     "metadata": {},
     "output_type": "execute_result"
    }
   ],
   "source": [
    "L"
   ]
  },
  {
   "cell_type": "code",
   "execution_count": 26,
   "id": "17587253",
   "metadata": {},
   "outputs": [
    {
     "data": {
      "text/plain": [
       "190"
      ]
     },
     "execution_count": 26,
     "metadata": {},
     "output_type": "execute_result"
    }
   ],
   "source": [
    "L.pop()"
   ]
  },
  {
   "cell_type": "code",
   "execution_count": 27,
   "id": "f8297e74",
   "metadata": {},
   "outputs": [
    {
     "data": {
      "text/plain": [
       "[15, 20, 48]"
      ]
     },
     "execution_count": 27,
     "metadata": {},
     "output_type": "execute_result"
    }
   ],
   "source": [
    "L"
   ]
  },
  {
   "cell_type": "code",
   "execution_count": 28,
   "id": "9bba78b6",
   "metadata": {},
   "outputs": [
    {
     "name": "stdout",
     "output_type": "stream",
     "text": [
      "aslı\n",
      "mehemet\n",
      "burak\n"
     ]
    }
   ],
   "source": [
    "L=[]\n",
    "while True:\n",
    "    isim=input(\"İsim Giriniz...:\")\n",
    "    L.append(isim)\n",
    "    if isim==\"sıradaki\":\n",
    "        print(L.pop(0))\n",
    "    if isim==\"bitti\":\n",
    "        break\n"
   ]
  },
  {
   "cell_type": "code",
   "execution_count": 30,
   "id": "845787d7",
   "metadata": {},
   "outputs": [
    {
     "name": "stdout",
     "output_type": "stream",
     "text": [
      "2415 numaralı hasta sıraya alındı\n",
      "1245 numaralı hasta sıraya alındı\n",
      "1234 numaralı hasta sıraya alındı\n",
      "Muayene Sırası...: 3\n",
      "1546 numaralı hasta sıraya alındı\n",
      "Muayene Sırası...: 3\n",
      "Muayene Sırası...: 1\n",
      "1 numaralı hasta sıraya alındı\n",
      "Muayene Sırası...: 1\n"
     ]
    },
    {
     "ename": "ValueError",
     "evalue": "invalid literal for int() with base 10: ''",
     "output_type": "error",
     "traceback": [
      "\u001b[31m---------------------------------------------------------------------------\u001b[39m",
      "\u001b[31mValueError\u001b[39m                                Traceback (most recent call last)",
      "\u001b[36mCell\u001b[39m\u001b[36m \u001b[39m\u001b[32mIn[30]\u001b[39m\u001b[32m, line 3\u001b[39m\n\u001b[32m      1\u001b[39m L=[]\n\u001b[32m      2\u001b[39m \u001b[38;5;28;01mwhile\u001b[39;00m \u001b[38;5;28;01mTrue\u001b[39;00m:\n\u001b[32m----> \u001b[39m\u001b[32m3\u001b[39m     tc=\u001b[38;5;28;43mint\u001b[39;49m\u001b[43m(\u001b[49m\u001b[38;5;28;43minput\u001b[39;49m\u001b[43m(\u001b[49m\u001b[33;43m\"\u001b[39;49m\u001b[33;43mTC gir..:\u001b[39;49m\u001b[33;43m\"\u001b[39;49m\u001b[43m)\u001b[49m\u001b[43m)\u001b[49m\n\u001b[32m      4\u001b[39m     \u001b[38;5;28;01mif\u001b[39;00m tc \u001b[38;5;129;01min\u001b[39;00m L:\n\u001b[32m      5\u001b[39m         i=L.index(tc)\n",
      "\u001b[31mValueError\u001b[39m: invalid literal for int() with base 10: ''"
     ]
    }
   ],
   "source": [
    "L=[]\n",
    "while True:\n",
    "    tc=int(input(\"TC gir..:\"))\n",
    "    if tc in L:\n",
    "        i=L.index(tc)\n",
    "        print(\"Muayene Sırası...:\",i+1)\n",
    "    elif tc==0:\n",
    "        print(L[0])\n",
    "        L.pop(0)\n",
    "    else:\n",
    "        L.append(tc)\n",
    "        print(tc,\"numaralı hasta sıraya alındı\")"
   ]
  },
  {
   "cell_type": "code",
   "execution_count": 35,
   "id": "c069db33",
   "metadata": {},
   "outputs": [
    {
     "name": "stdout",
     "output_type": "stream",
     "text": [
      "Yanlış Tahmin.Skorunuz : 5\n",
      "Yanlış Tahmin.Skorunuz : 4\n",
      "Yanlış Tahmin.Skorunuz : 3\n",
      "Yanlış Tahmin.Skorunuz : 2\n",
      "Bildiniz. Skorunuz : 1\n"
     ]
    }
   ],
   "source": [
    "import random\n",
    "sayi=random.randint(1,6)\n",
    "tahmin=int(input(\"Tahmin et...:\"))\n",
    "skor=5\n",
    "while True:\n",
    "    if sayi == tahmin:\n",
    "        print(\"Bildiniz. Skorunuz :\",skor)\n",
    "        break\n",
    "    else:\n",
    "        print(\"Yanlış Tahmin.Skorunuz :\",skor)\n",
    "        skor-=1\n",
    "        tahmin=int(input(\"Tahmin et..:\"))\n",
    "\n"
   ]
  },
  {
   "cell_type": "code",
   "execution_count": null,
   "id": "48e10447",
   "metadata": {},
   "outputs": [
    {
     "name": "stdout",
     "output_type": "stream",
     "text": [
      "Bilgisayar  Kağıt  seçti Sen  Taş  seçtin\n"
     ]
    }
   ],
   "source": [
    "import random\n",
    "Liste = [\"Taş\",\"Kağıt\",\"Makas\"]\n",
    "pc=random.choice(Liste)\n",
    "player=input(\"[Taş,Kağıt,Makas\").capitalize()\n",
    "\n",
    "print(\"Bilgisayar \",pc,\" seçti\")\n",
    "print(\"Sen \",player,\" seçtin\")\n",
    "\n",
    "\n",
    "\n"
   ]
  },
  {
   "cell_type": "code",
   "execution_count": null,
   "id": "0c05beb8",
   "metadata": {},
   "outputs": [
    {
     "ename": "",
     "evalue": "",
     "output_type": "error",
     "traceback": [
      "\u001b[1;31mThe Kernel crashed while executing code in the current cell or a previous cell. \n",
      "\u001b[1;31mPlease review the code in the cell(s) to identify a possible cause of the failure. \n",
      "\u001b[1;31mClick <a href='https://aka.ms/vscodeJupyterKernelCrash'>here</a> for more info. \n",
      "\u001b[1;31mView Jupyter <a href='command:jupyter.viewOutput'>log</a> for further details."
     ]
    }
   ],
   "source": [
    "import turtle\n",
    "turtle.goto(0,100)\n",
    "turtle.setpos(-200,200)\n",
    "turtle.home()"
   ]
  },
  {
   "cell_type": "code",
   "execution_count": null,
   "id": "c864a1bd",
   "metadata": {},
   "outputs": [],
   "source": []
  }
 ],
 "metadata": {
  "kernelspec": {
   "display_name": "Python 3",
   "language": "python",
   "name": "python3"
  },
  "language_info": {
   "codemirror_mode": {
    "name": "ipython",
    "version": 3
   },
   "file_extension": ".py",
   "mimetype": "text/x-python",
   "name": "python",
   "nbconvert_exporter": "python",
   "pygments_lexer": "ipython3",
   "version": "3.13.3"
  }
 },
 "nbformat": 4,
 "nbformat_minor": 5
}
