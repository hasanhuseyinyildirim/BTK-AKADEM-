{
 "cells": [
  {
   "cell_type": "code",
   "execution_count": 10,
   "id": "3929c4de",
   "metadata": {},
   "outputs": [],
   "source": [
    "import numpy as np\n",
    "import pandas as pd\n",
    "import matplotlib.pyplot as plt\n",
    "import random\n",
    "veriler = pd.read_csv('Ads_CTR_Optimisation.csv')\n"
   ]
  },
  {
   "cell_type": "code",
   "execution_count": 11,
   "id": "34c2d20d",
   "metadata": {},
   "outputs": [
    {
     "name": "stdout",
     "output_type": "stream",
     "text": [
      "Toplam Ödül\n",
      "2598\n"
     ]
    },
    {
     "data": {
      "image/png": "[encoded data removed]",
      "text/plain": [
       "<Figure size 640x480 with 1 Axes>"
      ]
     },
     "metadata": {},
     "output_type": "display_data"
    }
   ],
   "source": [
    "N=10000 #toplam 10000 tiklama\n",
    "d=10 #toplam 10 ilan var\n",
    "\n",
    "toplam=0 #toplam odul\n",
    "secilenler=[]\n",
    "birler=[0]*d\n",
    "sifirlar=[0]*d\n",
    "\n",
    "for n in range(0,N):\n",
    "\n",
    "    ad=0 #secilen ilan\n",
    "    max_th=0\n",
    "\n",
    "    for i in range(1,d):\n",
    "        rasbeta=random.betavariate(birler[i]+1,sifirlar[i]+1)\n",
    "        if rasbeta > max_th:\n",
    "            max_th=rasbeta\n",
    "            ad=i\n",
    "\n",
    "    secilenler.append(ad)\n",
    "    odul=veriler.values[n,ad]\n",
    "    if odul==1:\n",
    "        birler[ad]+=1\n",
    "    else:\n",
    "        sifirlar[ad]+=1\n",
    "    toplam+=odul\n",
    "\n",
    "print(\"Toplam Ödül\")\n",
    "print(toplam)\n",
    "\n",
    "plt.hist(secilenler)\n",
    "plt.show()"
   ]
  },
  {
   "cell_type": "code",
   "execution_count": null,
   "id": "92458c24",
   "metadata": {},
   "outputs": [],
   "source": []
  }
 ],
 "metadata": {
  "kernelspec": {
   "display_name": "Python 3",
   "language": "python",
   "name": "python3"
  },
  "language_info": {
   "codemirror_mode": {
    "name": "ipython",
    "version": 3
   },
   "file_extension": ".py",
   "mimetype": "text/x-python",
   "name": "python",
   "nbconvert_exporter": "python",
   "pygments_lexer": "ipython3",
   "version": "3.13.3"
  }
 },
 "nbformat": 4,
 "nbformat_minor": 5
}
