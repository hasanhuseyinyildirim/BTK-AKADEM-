{
 "cells": [
  {
   "cell_type": "code",
   "execution_count": 10,
   "id": "e57377ce",
   "metadata": {},
   "outputs": [],
   "source": [
    "import numpy as np\n",
    "import pandas as pd\n",
    "import matplotlib.pyplot as plt "
   ]
  },
  {
   "cell_type": "code",
   "execution_count": 11,
   "id": "06697573",
   "metadata": {},
   "outputs": [],
   "source": [
    "veriler=pd.read_csv(\"Churn_Modelling.csv\")"
   ]
  },
  {
   "cell_type": "code",
   "execution_count": 12,
   "id": "423ef329",
   "metadata": {},
   "outputs": [],
   "source": [
    "ulke=veriler.iloc[:,4:5].values\n",
    "gender=veriler.iloc[:,5:6].values\n",
    "X1=veriler.iloc[:,3:4]\n",
    "X2=veriler.iloc[:,6:13]\n",
    "Y=veriler.iloc[:,13:].values"
   ]
  },
  {
   "cell_type": "code",
   "execution_count": 13,
   "id": "243661eb",
   "metadata": {},
   "outputs": [],
   "source": [
    "from sklearn import preprocessing\n",
    "\n",
    "le=preprocessing.LabelEncoder()\n",
    "ulke[:,0]=le.fit_transform(ulke[:,0])\n",
    "\n",
    "le2=preprocessing.LabelEncoder()\n",
    "gender[:,0]=le2.fit_transform(gender[:,0])\n",
    "\n",
    "from sklearn.preprocessing import OneHotEncoder\n",
    "ohe=preprocessing.OneHotEncoder()\n",
    "ulke=ohe.fit_transform(ulke).toarray()\n",
    "sonuc=pd.DataFrame(data=ulke,index=range(len(ulke)),columns=[\"fr\",\"gr\",\"sp\"])\n",
    "sonuc2=pd.DataFrame(data=gender,index=range(len(gender)),columns=[\"Gender\"])\n",
    "X=pd.concat([X1,sonuc,sonuc2,X2],axis=1)"
   ]
  },
  {
   "cell_type": "code",
   "execution_count": 14,
   "id": "b0138f4e",
   "metadata": {},
   "outputs": [],
   "source": [
    "X=X.iloc[:,0:].values"
   ]
  },
  {
   "cell_type": "code",
   "execution_count": 15,
   "id": "110328ae",
   "metadata": {},
   "outputs": [],
   "source": [
    "from sklearn.model_selection import train_test_split\n",
    "X_train,X_test,y_train,y_test=train_test_split(X,Y,test_size=0.2,random_state=0)"
   ]
  },
  {
   "cell_type": "code",
   "execution_count": 16,
   "id": "f3684dd7",
   "metadata": {},
   "outputs": [],
   "source": [
    "from xgboost import XGBClassifier\n",
    "classifier=XGBClassifier()\n",
    "classifier.fit(X_train,y_train)\n",
    "\n",
    "y_pred=classifier.predict(X_test)"
   ]
  },
  {
   "cell_type": "code",
   "execution_count": 17,
   "id": "f21684c9",
   "metadata": {},
   "outputs": [
    {
     "name": "stdout",
     "output_type": "stream",
     "text": [
      "[[1496  192]\n",
      " [  99  213]]\n"
     ]
    }
   ],
   "source": [
    "from sklearn.metrics import confusion_matrix\n",
    "cm=confusion_matrix(y_pred,y_test)\n",
    "print(cm)"
   ]
  },
  {
   "cell_type": "code",
   "execution_count": null,
   "id": "88386b23",
   "metadata": {},
   "outputs": [],
   "source": []
  }
 ],
 "metadata": {
  "kernelspec": {
   "display_name": "Python 3",
   "language": "python",
   "name": "python3"
  },
  "language_info": {
   "codemirror_mode": {
    "name": "ipython",
    "version": 3
   },
   "file_extension": ".py",
   "mimetype": "text/x-python",
   "name": "python",
   "nbconvert_exporter": "python",
   "pygments_lexer": "ipython3",
   "version": "3.13.3"
  }
 },
 "nbformat": 4,
 "nbformat_minor": 5
}
