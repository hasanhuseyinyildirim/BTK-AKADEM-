{
 "cells": [
  {
   "cell_type": "code",
   "execution_count": 92,
   "id": "5026d654",
   "metadata": {},
   "outputs": [
    {
     "name": "stderr",
     "output_type": "stream",
     "text": [
      "[nltk_data] Downloading package stopwords to\n",
      "[nltk_data]     C:\\Users\\hasan\\AppData\\Roaming\\nltk_data...\n",
      "[nltk_data]   Package stopwords is already up-to-date!\n"
     ]
    }
   ],
   "source": [
    "import numpy as np\n",
    "import pandas as pd\n",
    "\n",
    "import nltk\n",
    "nltk.download(\"stopwords\")\n",
    "from nltk.stem.porter import PorterStemmer\n",
    "ps=PorterStemmer()\n",
    "from nltk.corpus import stopwords"
   ]
  },
  {
   "cell_type": "code",
   "execution_count": 93,
   "id": "8f6c6d2c",
   "metadata": {},
   "outputs": [],
   "source": [
    "yorumlar=pd.read_csv(\"Restaurant_Reviews.csv\")"
   ]
  },
  {
   "cell_type": "code",
   "execution_count": 94,
   "id": "0cea7dfc",
   "metadata": {},
   "outputs": [],
   "source": [
    "import re\n",
    "\n",
    "yorum=re.sub(\"[^a-zA-Z]\",\" \",yorumlar[\"Review\"][0])\n",
    "yorum=yorum.lower()\n",
    "yorum=yorum.split()"
   ]
  },
  {
   "cell_type": "code",
   "execution_count": 95,
   "id": "4fec4a1f",
   "metadata": {},
   "outputs": [],
   "source": [
    "yorum=[ps.stem(kelime) for kelime in yorum if not kelime in set(stopwords.words(\"english\"))]"
   ]
  },
  {
   "cell_type": "code",
   "execution_count": 96,
   "id": "8096a92d",
   "metadata": {},
   "outputs": [],
   "source": [
    "yorum=\" \".join(yorum)"
   ]
  },
  {
   "cell_type": "code",
   "execution_count": 97,
   "id": "791fa8cf",
   "metadata": {},
   "outputs": [],
   "source": [
    "derlem=[]\n",
    "for i in range(1000):\n",
    "    yorum=re.sub(\"[^a-zA-Z]\",\" \",yorumlar[\"Review\"][i])\n",
    "    yorum=yorum.lower()\n",
    "    yorum=yorum.split()\n",
    "    yorum=[ps.stem(kelime) for kelime in yorum if not kelime in set(stopwords.words(\"english\"))]\n",
    "    yorum=\" \".join(yorum)\n",
    "    derlem.append(yorum)"
   ]
  },
  {
   "cell_type": "code",
   "execution_count": 98,
   "id": "bf734f0d",
   "metadata": {},
   "outputs": [],
   "source": [
    "from sklearn.feature_extraction.text import CountVectorizer\n",
    "cv=CountVectorizer(max_features=2000)"
   ]
  },
  {
   "cell_type": "code",
   "execution_count": 99,
   "id": "34420a4f",
   "metadata": {},
   "outputs": [],
   "source": [
    "X=cv.fit_transform(derlem).toarray()\n",
    "y=yorumlar.iloc[:,1]\n",
    "y=y.fillna(0)\n",
    "y=y.values\n"
   ]
  },
  {
   "cell_type": "code",
   "execution_count": 100,
   "id": "003f77c7",
   "metadata": {},
   "outputs": [],
   "source": [
    "from sklearn.model_selection import train_test_split\n",
    "x_train,x_test,y_train,y_test=train_test_split(X,y,test_size=0.20,random_state=0)\n"
   ]
  },
  {
   "cell_type": "code",
   "execution_count": 101,
   "id": "00f5641e",
   "metadata": {},
   "outputs": [],
   "source": [
    "from sklearn.naive_bayes import GaussianNB\n",
    "gnb=GaussianNB()\n",
    "gnb.fit(x_train,y_train)\n",
    "\n",
    "y_pred=gnb.predict(x_test)"
   ]
  },
  {
   "cell_type": "code",
   "execution_count": 102,
   "id": "72fe06f6",
   "metadata": {},
   "outputs": [],
   "source": [
    "from sklearn.metrics import confusion_matrix\n",
    "cm=confusion_matrix(y_test,y_pred)"
   ]
  },
  {
   "cell_type": "code",
   "execution_count": 103,
   "id": "a346bfa2",
   "metadata": {},
   "outputs": [
    {
     "name": "stdout",
     "output_type": "stream",
     "text": [
      "[[54 43]\n",
      " [12 91]]\n"
     ]
    }
   ],
   "source": [
    "print(cm)"
   ]
  },
  {
   "cell_type": "code",
   "execution_count": null,
   "id": "8be63cce",
   "metadata": {},
   "outputs": [],
   "source": []
  }
 ],
 "metadata": {
  "kernelspec": {
   "display_name": "Python 3",
   "language": "python",
   "name": "python3"
  },
  "language_info": {
   "codemirror_mode": {
    "name": "ipython",
    "version": 3
   },
   "file_extension": ".py",
   "mimetype": "text/x-python",
   "name": "python",
   "nbconvert_exporter": "python",
   "pygments_lexer": "ipython3",
   "version": "3.13.3"
  }
 },
 "nbformat": 4,
 "nbformat_minor": 5
}
