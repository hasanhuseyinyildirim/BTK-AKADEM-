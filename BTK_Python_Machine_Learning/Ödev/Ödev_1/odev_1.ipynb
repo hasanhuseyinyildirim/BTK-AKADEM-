{
 "cells": [
  {
   "cell_type": "code",
   "execution_count": 1,
   "id": "9a615112",
   "metadata": {},
   "outputs": [],
   "source": [
    "import numpy as np\n",
    "import pandas as pd\n",
    "import matplotlib.pyplot as plt"
   ]
  },
  {
   "cell_type": "code",
   "execution_count": 2,
   "id": "f4d31b30",
   "metadata": {},
   "outputs": [],
   "source": [
    "veriler=pd.read_csv(\"odev_tenis.csv\")"
   ]
  },
  {
   "cell_type": "code",
   "execution_count": 135,
   "id": "19dd4ef6",
   "metadata": {},
   "outputs": [
    {
     "data": {
      "text/plain": [
       "14"
      ]
     },
     "execution_count": 135,
     "metadata": {},
     "output_type": "execute_result"
    }
   ],
   "source": [
    "len(veriler)"
   ]
  },
  {
   "cell_type": "code",
   "execution_count": 151,
   "id": "32e0ce8b",
   "metadata": {},
   "outputs": [
    {
     "name": "stderr",
     "output_type": "stream",
     "text": [
      "c:\\Users\\hasan\\AppData\\Local\\Programs\\Python\\Python313\\Lib\\site-packages\\sklearn\\preprocessing\\_label.py:110: DataConversionWarning: A column-vector y was passed when a 1d array was expected. Please change the shape of y to (n_samples, ), for example using ravel().\n",
      "  y = column_or_1d(y, warn=True)\n"
     ]
    }
   ],
   "source": [
    "#encoder : kategorik--> numeric\n",
    "from sklearn import preprocessing\n",
    "labelEnc = preprocessing.LabelEncoder()\n",
    "oneHotEnc = preprocessing.OneHotEncoder()\n",
    "\n",
    "\n",
    "outlook=veriler.iloc[:,0]\n",
    "outlook=labelEnc.fit_transform(outlook)\n",
    "outlook=oneHotEnc.fit_transform(outlook.reshape(-1,1)).toarray()\n",
    "outlook=pd.DataFrame(data=outlook,columns=[\"overcast\",\"rainy\",\"sunny\"])\n",
    "\n",
    "windy=veriler.iloc[:,3]\n",
    "windy=labelEnc.fit_transform(windy)\n",
    "windy=pd.DataFrame(data=windy,columns=[\"windy\"])\n",
    "\n",
    "play=veriler.iloc[:,-1:].values\n",
    "play=labelEnc.fit_transform(play)\n",
    "play=pd.DataFrame(data=play,columns=[\"play\"])\n",
    "\n",
    "'''\n",
    "#tüm değerleri tek seferde encode edebiliriz\n",
    "veriler2=veriler.apply(labelEnc.fit_transform)\n",
    "'''\n",
    "\n",
    "x_veri =pd.concat([windy,play,outlook,veriler.iloc[:,1]],axis=1)\n",
    "y_veri=veriler.iloc[:,2]\n"
   ]
  },
  {
   "cell_type": "code",
   "execution_count": 165,
   "id": "96839dda",
   "metadata": {},
   "outputs": [],
   "source": [
    "from sklearn.model_selection import train_test_split\n",
    "\n",
    "x_train,x_test,y_train,y_test=train_test_split(x_veri,y_veri,test_size=0.33,random_state=0)"
   ]
  },
  {
   "cell_type": "code",
   "execution_count": 166,
   "id": "c34030df",
   "metadata": {},
   "outputs": [],
   "source": [
    "from sklearn.linear_model import LinearRegression\n",
    "regressor =LinearRegression()\n",
    "\n",
    "regressor.fit(x_train,y_train)\n",
    "\n",
    "tahmin=regressor.predict(x_test)"
   ]
  },
  {
   "cell_type": "code",
   "execution_count": null,
   "id": "3266d39a",
   "metadata": {},
   "outputs": [
    {
     "data": {
      "text/plain": [
       "array([84.45365573, 63.93839954, 85.76050662, 64.21013241, 75.06793322])"
      ]
     },
     "execution_count": 167,
     "metadata": {},
     "output_type": "execute_result"
    }
   ],
   "source": [
    "tahmin"
   ]
  },
  {
   "cell_type": "code",
   "execution_count": 155,
   "id": "c28669c1",
   "metadata": {},
   "outputs": [
    {
     "data": {
      "text/plain": [
       "8     70\n",
       "6     65\n",
       "4     80\n",
       "11    90\n",
       "2     86\n",
       "Name: humidity, dtype: int64"
      ]
     },
     "execution_count": 155,
     "metadata": {},
     "output_type": "execute_result"
    }
   ],
   "source": [
    "y_test"
   ]
  },
  {
   "cell_type": "code",
   "execution_count": 160,
   "id": "5d1ae85e",
   "metadata": {},
   "outputs": [
    {
     "data": {
      "text/html": [
       "<table class=\"simpletable\">\n",
       "<caption>OLS Regression Results</caption>\n",
       "<tr>\n",
       "  <th>Dep. Variable:</th>        <td>humidity</td>     <th>  R-squared:         </th> <td>   0.294</td>\n",
       "</tr>\n",
       "<tr>\n",
       "  <th>Model:</th>                   <td>OLS</td>       <th>  Adj. R-squared:    </th> <td>  -0.148</td>\n",
       "</tr>\n",
       "<tr>\n",
       "  <th>Method:</th>             <td>Least Squares</td>  <th>  F-statistic:       </th> <td>  0.6653</td>\n",
       "</tr>\n",
       "<tr>\n",
       "  <th>Date:</th>             <td>Tue, 26 Aug 2025</td> <th>  Prob (F-statistic):</th>  <td> 0.661</td> \n",
       "</tr>\n",
       "<tr>\n",
       "  <th>Time:</th>                 <td>00:37:01</td>     <th>  Log-Likelihood:    </th> <td> -49.542</td>\n",
       "</tr>\n",
       "<tr>\n",
       "  <th>No. Observations:</th>      <td>    14</td>      <th>  AIC:               </th> <td>   111.1</td>\n",
       "</tr>\n",
       "<tr>\n",
       "  <th>Df Residuals:</th>          <td>     8</td>      <th>  BIC:               </th> <td>   114.9</td>\n",
       "</tr>\n",
       "<tr>\n",
       "  <th>Df Model:</th>              <td>     5</td>      <th>                     </th>     <td> </td>   \n",
       "</tr>\n",
       "<tr>\n",
       "  <th>Covariance Type:</th>      <td>nonrobust</td>    <th>                     </th>     <td> </td>   \n",
       "</tr>\n",
       "</table>\n",
       "<table class=\"simpletable\">\n",
       "<tr>\n",
       "   <td></td>     <th>coef</th>     <th>std err</th>      <th>t</th>      <th>P>|t|</th>  <th>[0.025</th>    <th>0.975]</th>  \n",
       "</tr>\n",
       "<tr>\n",
       "  <th>x1</th> <td>   -4.0286</td> <td>    7.229</td> <td>   -0.557</td> <td> 0.593</td> <td>  -20.698</td> <td>   12.641</td>\n",
       "</tr>\n",
       "<tr>\n",
       "  <th>x2</th> <td>   -8.2778</td> <td>    8.029</td> <td>   -1.031</td> <td> 0.333</td> <td>  -26.793</td> <td>   10.237</td>\n",
       "</tr>\n",
       "<tr>\n",
       "  <th>x3</th> <td>   52.3891</td> <td>   50.214</td> <td>    1.043</td> <td> 0.327</td> <td>  -63.404</td> <td>  168.183</td>\n",
       "</tr>\n",
       "<tr>\n",
       "  <th>x4</th> <td>   55.6337</td> <td>   45.233</td> <td>    1.230</td> <td> 0.254</td> <td>  -48.673</td> <td>  159.940</td>\n",
       "</tr>\n",
       "<tr>\n",
       "  <th>x5</th> <td>   49.4291</td> <td>   48.337</td> <td>    1.023</td> <td> 0.336</td> <td>  -62.035</td> <td>  160.893</td>\n",
       "</tr>\n",
       "<tr>\n",
       "  <th>x6</th> <td>    0.4920</td> <td>    0.597</td> <td>    0.825</td> <td> 0.433</td> <td>   -0.884</td> <td>    1.868</td>\n",
       "</tr>\n",
       "</table>\n",
       "<table class=\"simpletable\">\n",
       "<tr>\n",
       "  <th>Omnibus:</th>       <td> 0.935</td> <th>  Durbin-Watson:     </th> <td>   2.416</td>\n",
       "</tr>\n",
       "<tr>\n",
       "  <th>Prob(Omnibus):</th> <td> 0.627</td> <th>  Jarque-Bera (JB):  </th> <td>   0.823</td>\n",
       "</tr>\n",
       "<tr>\n",
       "  <th>Skew:</th>          <td> 0.389</td> <th>  Prob(JB):          </th> <td>   0.663</td>\n",
       "</tr>\n",
       "<tr>\n",
       "  <th>Kurtosis:</th>      <td> 2.103</td> <th>  Cond. No.          </th> <td>2.08e+03</td>\n",
       "</tr>\n",
       "</table><br/><br/>Notes:<br/>[1] Standard Errors assume that the covariance matrix of the errors is correctly specified.<br/>[2] The condition number is large, 2.08e+03. This might indicate that there are<br/>strong multicollinearity or other numerical problems."
      ],
      "text/latex": [
       "\\begin{center}\n",
       "\\begin{tabular}{lclc}\n",
       "\\toprule\n",
       "\\textbf{Dep. Variable:}    &     humidity     & \\textbf{  R-squared:         } &     0.294   \\\\\n",
       "\\textbf{Model:}            &       OLS        & \\textbf{  Adj. R-squared:    } &    -0.148   \\\\\n",
       "\\textbf{Method:}           &  Least Squares   & \\textbf{  F-statistic:       } &    0.6653   \\\\\n",
       "\\textbf{Date:}             & Tue, 26 Aug 2025 & \\textbf{  Prob (F-statistic):} &    0.661    \\\\\n",
       "\\textbf{Time:}             &     00:37:01     & \\textbf{  Log-Likelihood:    } &   -49.542   \\\\\n",
       "\\textbf{No. Observations:} &          14      & \\textbf{  AIC:               } &     111.1   \\\\\n",
       "\\textbf{Df Residuals:}     &           8      & \\textbf{  BIC:               } &     114.9   \\\\\n",
       "\\textbf{Df Model:}         &           5      & \\textbf{                     } &             \\\\\n",
       "\\textbf{Covariance Type:}  &    nonrobust     & \\textbf{                     } &             \\\\\n",
       "\\bottomrule\n",
       "\\end{tabular}\n",
       "\\begin{tabular}{lcccccc}\n",
       "            & \\textbf{coef} & \\textbf{std err} & \\textbf{t} & \\textbf{P$> |$t$|$} & \\textbf{[0.025} & \\textbf{0.975]}  \\\\\n",
       "\\midrule\n",
       "\\textbf{x1} &      -4.0286  &        7.229     &    -0.557  &         0.593        &      -20.698    &       12.641     \\\\\n",
       "\\textbf{x2} &      -8.2778  &        8.029     &    -1.031  &         0.333        &      -26.793    &       10.237     \\\\\n",
       "\\textbf{x3} &      52.3891  &       50.214     &     1.043  &         0.327        &      -63.404    &      168.183     \\\\\n",
       "\\textbf{x4} &      55.6337  &       45.233     &     1.230  &         0.254        &      -48.673    &      159.940     \\\\\n",
       "\\textbf{x5} &      49.4291  &       48.337     &     1.023  &         0.336        &      -62.035    &      160.893     \\\\\n",
       "\\textbf{x6} &       0.4920  &        0.597     &     0.825  &         0.433        &       -0.884    &        1.868     \\\\\n",
       "\\bottomrule\n",
       "\\end{tabular}\n",
       "\\begin{tabular}{lclc}\n",
       "\\textbf{Omnibus:}       &  0.935 & \\textbf{  Durbin-Watson:     } &    2.416  \\\\\n",
       "\\textbf{Prob(Omnibus):} &  0.627 & \\textbf{  Jarque-Bera (JB):  } &    0.823  \\\\\n",
       "\\textbf{Skew:}          &  0.389 & \\textbf{  Prob(JB):          } &    0.663  \\\\\n",
       "\\textbf{Kurtosis:}      &  2.103 & \\textbf{  Cond. No.          } & 2.08e+03  \\\\\n",
       "\\bottomrule\n",
       "\\end{tabular}\n",
       "%\\caption{OLS Regression Results}\n",
       "\\end{center}\n",
       "\n",
       "Notes: \\newline\n",
       " [1] Standard Errors assume that the covariance matrix of the errors is correctly specified. \\newline\n",
       " [2] The condition number is large, 2.08e+03. This might indicate that there are \\newline\n",
       " strong multicollinearity or other numerical problems."
      ],
      "text/plain": [
       "<class 'statsmodels.iolib.summary.Summary'>\n",
       "\"\"\"\n",
       "                            OLS Regression Results                            \n",
       "==============================================================================\n",
       "Dep. Variable:               humidity   R-squared:                       0.294\n",
       "Model:                            OLS   Adj. R-squared:                 -0.148\n",
       "Method:                 Least Squares   F-statistic:                    0.6653\n",
       "Date:                Tue, 26 Aug 2025   Prob (F-statistic):              0.661\n",
       "Time:                        00:37:01   Log-Likelihood:                -49.542\n",
       "No. Observations:                  14   AIC:                             111.1\n",
       "Df Residuals:                       8   BIC:                             114.9\n",
       "Df Model:                           5                                         \n",
       "Covariance Type:            nonrobust                                         \n",
       "==============================================================================\n",
       "                 coef    std err          t      P>|t|      [0.025      0.975]\n",
       "------------------------------------------------------------------------------\n",
       "x1            -4.0286      7.229     -0.557      0.593     -20.698      12.641\n",
       "x2            -8.2778      8.029     -1.031      0.333     -26.793      10.237\n",
       "x3            52.3891     50.214      1.043      0.327     -63.404     168.183\n",
       "x4            55.6337     45.233      1.230      0.254     -48.673     159.940\n",
       "x5            49.4291     48.337      1.023      0.336     -62.035     160.893\n",
       "x6             0.4920      0.597      0.825      0.433      -0.884       1.868\n",
       "==============================================================================\n",
       "Omnibus:                        0.935   Durbin-Watson:                   2.416\n",
       "Prob(Omnibus):                  0.627   Jarque-Bera (JB):                0.823\n",
       "Skew:                           0.389   Prob(JB):                        0.663\n",
       "Kurtosis:                       2.103   Cond. No.                     2.08e+03\n",
       "==============================================================================\n",
       "\n",
       "Notes:\n",
       "[1] Standard Errors assume that the covariance matrix of the errors is correctly specified.\n",
       "[2] The condition number is large, 2.08e+03. This might indicate that there are\n",
       "strong multicollinearity or other numerical problems.\n",
       "\"\"\""
      ]
     },
     "execution_count": 160,
     "metadata": {},
     "output_type": "execute_result"
    }
   ],
   "source": [
    "#backward elimination\n",
    "\n",
    "import statsmodels.api as sm\n",
    "X=np.append(arr=np.ones((len(veriler),1)).astype(int),values=x_veri,axis=1)\n",
    "X_liste=x_veri.iloc[:,[0,1,2,3,4,5]].values\n",
    "X_liste=np.array(X_liste,dtype=float)\n",
    "model = sm.OLS(y_veri,X_liste).fit()\n",
    "model.summary()"
   ]
  },
  {
   "cell_type": "code",
   "execution_count": 161,
   "id": "7d6be10b",
   "metadata": {},
   "outputs": [
    {
     "data": {
      "text/html": [
       "<table class=\"simpletable\">\n",
       "<caption>OLS Regression Results</caption>\n",
       "<tr>\n",
       "  <th>Dep. Variable:</th>        <td>humidity</td>     <th>  R-squared:         </th> <td>   0.266</td>\n",
       "</tr>\n",
       "<tr>\n",
       "  <th>Model:</th>                   <td>OLS</td>       <th>  Adj. R-squared:    </th> <td>  -0.060</td>\n",
       "</tr>\n",
       "<tr>\n",
       "  <th>Method:</th>             <td>Least Squares</td>  <th>  F-statistic:       </th> <td>  0.8165</td>\n",
       "</tr>\n",
       "<tr>\n",
       "  <th>Date:</th>             <td>Tue, 26 Aug 2025</td> <th>  Prob (F-statistic):</th>  <td> 0.546</td> \n",
       "</tr>\n",
       "<tr>\n",
       "  <th>Time:</th>                 <td>00:37:19</td>     <th>  Log-Likelihood:    </th> <td> -49.809</td>\n",
       "</tr>\n",
       "<tr>\n",
       "  <th>No. Observations:</th>      <td>    14</td>      <th>  AIC:               </th> <td>   109.6</td>\n",
       "</tr>\n",
       "<tr>\n",
       "  <th>Df Residuals:</th>          <td>     9</td>      <th>  BIC:               </th> <td>   112.8</td>\n",
       "</tr>\n",
       "<tr>\n",
       "  <th>Df Model:</th>              <td>     4</td>      <th>                     </th>     <td> </td>   \n",
       "</tr>\n",
       "<tr>\n",
       "  <th>Covariance Type:</th>      <td>nonrobust</td>    <th>                     </th>     <td> </td>   \n",
       "</tr>\n",
       "</table>\n",
       "<table class=\"simpletable\">\n",
       "<tr>\n",
       "   <td></td>     <th>coef</th>     <th>std err</th>      <th>t</th>      <th>P>|t|</th>  <th>[0.025</th>    <th>0.975]</th>  \n",
       "</tr>\n",
       "<tr>\n",
       "  <th>x1</th> <td>   -6.2865</td> <td>    6.909</td> <td>   -0.910</td> <td> 0.387</td> <td>  -21.916</td> <td>    9.343</td>\n",
       "</tr>\n",
       "<tr>\n",
       "  <th>x2</th> <td>   36.6564</td> <td>   39.905</td> <td>    0.919</td> <td> 0.382</td> <td>  -53.615</td> <td>  126.927</td>\n",
       "</tr>\n",
       "<tr>\n",
       "  <th>x3</th> <td>   41.9135</td> <td>   36.464</td> <td>    1.149</td> <td> 0.280</td> <td>  -40.573</td> <td>  124.400</td>\n",
       "</tr>\n",
       "<tr>\n",
       "  <th>x4</th> <td>   35.1064</td> <td>   39.339</td> <td>    0.892</td> <td> 0.395</td> <td>  -53.884</td> <td>  124.097</td>\n",
       "</tr>\n",
       "<tr>\n",
       "  <th>x5</th> <td>    0.6484</td> <td>    0.506</td> <td>    1.282</td> <td> 0.232</td> <td>   -0.496</td> <td>    1.793</td>\n",
       "</tr>\n",
       "</table>\n",
       "<table class=\"simpletable\">\n",
       "<tr>\n",
       "  <th>Omnibus:</th>       <td> 0.887</td> <th>  Durbin-Watson:     </th> <td>   2.360</td>\n",
       "</tr>\n",
       "<tr>\n",
       "  <th>Prob(Omnibus):</th> <td> 0.642</td> <th>  Jarque-Bera (JB):  </th> <td>   0.810</td>\n",
       "</tr>\n",
       "<tr>\n",
       "  <th>Skew:</th>          <td> 0.424</td> <th>  Prob(JB):          </th> <td>   0.667</td>\n",
       "</tr>\n",
       "<tr>\n",
       "  <th>Kurtosis:</th>      <td> 2.181</td> <th>  Cond. No.          </th> <td>1.73e+03</td>\n",
       "</tr>\n",
       "</table><br/><br/>Notes:<br/>[1] Standard Errors assume that the covariance matrix of the errors is correctly specified.<br/>[2] The condition number is large, 1.73e+03. This might indicate that there are<br/>strong multicollinearity or other numerical problems."
      ],
      "text/latex": [
       "\\begin{center}\n",
       "\\begin{tabular}{lclc}\n",
       "\\toprule\n",
       "\\textbf{Dep. Variable:}    &     humidity     & \\textbf{  R-squared:         } &     0.266   \\\\\n",
       "\\textbf{Model:}            &       OLS        & \\textbf{  Adj. R-squared:    } &    -0.060   \\\\\n",
       "\\textbf{Method:}           &  Least Squares   & \\textbf{  F-statistic:       } &    0.8165   \\\\\n",
       "\\textbf{Date:}             & Tue, 26 Aug 2025 & \\textbf{  Prob (F-statistic):} &    0.546    \\\\\n",
       "\\textbf{Time:}             &     00:37:19     & \\textbf{  Log-Likelihood:    } &   -49.809   \\\\\n",
       "\\textbf{No. Observations:} &          14      & \\textbf{  AIC:               } &     109.6   \\\\\n",
       "\\textbf{Df Residuals:}     &           9      & \\textbf{  BIC:               } &     112.8   \\\\\n",
       "\\textbf{Df Model:}         &           4      & \\textbf{                     } &             \\\\\n",
       "\\textbf{Covariance Type:}  &    nonrobust     & \\textbf{                     } &             \\\\\n",
       "\\bottomrule\n",
       "\\end{tabular}\n",
       "\\begin{tabular}{lcccccc}\n",
       "            & \\textbf{coef} & \\textbf{std err} & \\textbf{t} & \\textbf{P$> |$t$|$} & \\textbf{[0.025} & \\textbf{0.975]}  \\\\\n",
       "\\midrule\n",
       "\\textbf{x1} &      -6.2865  &        6.909     &    -0.910  &         0.387        &      -21.916    &        9.343     \\\\\n",
       "\\textbf{x2} &      36.6564  &       39.905     &     0.919  &         0.382        &      -53.615    &      126.927     \\\\\n",
       "\\textbf{x3} &      41.9135  &       36.464     &     1.149  &         0.280        &      -40.573    &      124.400     \\\\\n",
       "\\textbf{x4} &      35.1064  &       39.339     &     0.892  &         0.395        &      -53.884    &      124.097     \\\\\n",
       "\\textbf{x5} &       0.6484  &        0.506     &     1.282  &         0.232        &       -0.496    &        1.793     \\\\\n",
       "\\bottomrule\n",
       "\\end{tabular}\n",
       "\\begin{tabular}{lclc}\n",
       "\\textbf{Omnibus:}       &  0.887 & \\textbf{  Durbin-Watson:     } &    2.360  \\\\\n",
       "\\textbf{Prob(Omnibus):} &  0.642 & \\textbf{  Jarque-Bera (JB):  } &    0.810  \\\\\n",
       "\\textbf{Skew:}          &  0.424 & \\textbf{  Prob(JB):          } &    0.667  \\\\\n",
       "\\textbf{Kurtosis:}      &  2.181 & \\textbf{  Cond. No.          } & 1.73e+03  \\\\\n",
       "\\bottomrule\n",
       "\\end{tabular}\n",
       "%\\caption{OLS Regression Results}\n",
       "\\end{center}\n",
       "\n",
       "Notes: \\newline\n",
       " [1] Standard Errors assume that the covariance matrix of the errors is correctly specified. \\newline\n",
       " [2] The condition number is large, 1.73e+03. This might indicate that there are \\newline\n",
       " strong multicollinearity or other numerical problems."
      ],
      "text/plain": [
       "<class 'statsmodels.iolib.summary.Summary'>\n",
       "\"\"\"\n",
       "                            OLS Regression Results                            \n",
       "==============================================================================\n",
       "Dep. Variable:               humidity   R-squared:                       0.266\n",
       "Model:                            OLS   Adj. R-squared:                 -0.060\n",
       "Method:                 Least Squares   F-statistic:                    0.8165\n",
       "Date:                Tue, 26 Aug 2025   Prob (F-statistic):              0.546\n",
       "Time:                        00:37:19   Log-Likelihood:                -49.809\n",
       "No. Observations:                  14   AIC:                             109.6\n",
       "Df Residuals:                       9   BIC:                             112.8\n",
       "Df Model:                           4                                         \n",
       "Covariance Type:            nonrobust                                         \n",
       "==============================================================================\n",
       "                 coef    std err          t      P>|t|      [0.025      0.975]\n",
       "------------------------------------------------------------------------------\n",
       "x1            -6.2865      6.909     -0.910      0.387     -21.916       9.343\n",
       "x2            36.6564     39.905      0.919      0.382     -53.615     126.927\n",
       "x3            41.9135     36.464      1.149      0.280     -40.573     124.400\n",
       "x4            35.1064     39.339      0.892      0.395     -53.884     124.097\n",
       "x5             0.6484      0.506      1.282      0.232      -0.496       1.793\n",
       "==============================================================================\n",
       "Omnibus:                        0.887   Durbin-Watson:                   2.360\n",
       "Prob(Omnibus):                  0.642   Jarque-Bera (JB):                0.810\n",
       "Skew:                           0.424   Prob(JB):                        0.667\n",
       "Kurtosis:                       2.181   Cond. No.                     1.73e+03\n",
       "==============================================================================\n",
       "\n",
       "Notes:\n",
       "[1] Standard Errors assume that the covariance matrix of the errors is correctly specified.\n",
       "[2] The condition number is large, 1.73e+03. This might indicate that there are\n",
       "strong multicollinearity or other numerical problems.\n",
       "\"\"\""
      ]
     },
     "execution_count": 161,
     "metadata": {},
     "output_type": "execute_result"
    }
   ],
   "source": [
    "#x1 elimine ediliyor\n",
    "import statsmodels.api as sm\n",
    "X=np.append(arr=np.ones((len(veriler),1)).astype(int),values=x_veri,axis=1)\n",
    "X_liste=x_veri.iloc[:,[1,2,3,4,5]].values\n",
    "X_liste=np.array(X_liste,dtype=float)\n",
    "model = sm.OLS(y_veri,X_liste).fit()\n",
    "model.summary()"
   ]
  },
  {
   "cell_type": "code",
   "execution_count": 178,
   "id": "8d692ec3",
   "metadata": {},
   "outputs": [],
   "source": [
    "x_train,x_test,y_train,y_test=train_test_split(x_veri,y_veri,test_size=0.33,random_state=0)\n",
    "x_train=x_train.iloc[:,1:]\n",
    "x_test=x_test.iloc[:,1:]\n",
    "\n",
    "\n",
    "regressor.fit(x_train,y_train)\n",
    "tahmin2=regressor.predict(x_test)"
   ]
  },
  {
   "cell_type": "code",
   "execution_count": 179,
   "id": "80f4890a",
   "metadata": {},
   "outputs": [
    {
     "data": {
      "text/plain": [
       "array([77.98135142, 68.29304916, 81.05037539, 71.44926132, 75.78905304])"
      ]
     },
     "execution_count": 179,
     "metadata": {},
     "output_type": "execute_result"
    }
   ],
   "source": [
    "tahmin2"
   ]
  },
  {
   "cell_type": "code",
   "execution_count": 180,
   "id": "43208495",
   "metadata": {},
   "outputs": [
    {
     "data": {
      "text/plain": [
       "array([84.45365573, 63.93839954, 85.76050662, 64.21013241, 75.06793322])"
      ]
     },
     "execution_count": 180,
     "metadata": {},
     "output_type": "execute_result"
    }
   ],
   "source": [
    "tahmin"
   ]
  },
  {
   "cell_type": "code",
   "execution_count": 181,
   "id": "31e37660",
   "metadata": {},
   "outputs": [
    {
     "data": {
      "text/plain": [
       "8     70\n",
       "6     65\n",
       "4     80\n",
       "11    90\n",
       "2     86\n",
       "Name: humidity, dtype: int64"
      ]
     },
     "execution_count": 181,
     "metadata": {},
     "output_type": "execute_result"
    }
   ],
   "source": [
    "y_test"
   ]
  },
  {
   "cell_type": "code",
   "execution_count": null,
   "id": "07a459a0",
   "metadata": {},
   "outputs": [],
   "source": []
  }
 ],
 "metadata": {
  "kernelspec": {
   "display_name": "Python 3",
   "language": "python",
   "name": "python3"
  },
  "language_info": {
   "codemirror_mode": {
    "name": "ipython",
    "version": 3
   },
   "file_extension": ".py",
   "mimetype": "text/x-python",
   "name": "python",
   "nbconvert_exporter": "python",
   "pygments_lexer": "ipython3",
   "version": "3.13.3"
  }
 },
 "nbformat": 4,
 "nbformat_minor": 5
}
