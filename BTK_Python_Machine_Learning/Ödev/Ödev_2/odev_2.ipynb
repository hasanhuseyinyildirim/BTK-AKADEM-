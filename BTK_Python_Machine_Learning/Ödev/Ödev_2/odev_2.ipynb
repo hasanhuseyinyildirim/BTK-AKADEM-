{
 "cells": [
  {
   "cell_type": "code",
   "execution_count": 73,
   "id": "93315d4f",
   "metadata": {},
   "outputs": [],
   "source": [
    "import numpy as np\n",
    "import pandas as pd\n",
    "import matplotlib.pyplot as plt\n",
    "from sklearn.metrics import r2_score\n",
    "import statsmodels.api as sm"
   ]
  },
  {
   "cell_type": "code",
   "execution_count": null,
   "id": "c76d65e0",
   "metadata": {},
   "outputs": [
    {
     "name": "stdout",
     "output_type": "stream",
     "text": [
      "               Calisan ID  UnvanSeviyesi     Kidem      Puan      maas\n",
      "Calisan ID       1.000000       0.331847  0.206278 -0.251278  0.226287\n",
      "UnvanSeviyesi    0.331847       1.000000 -0.125200  0.034948  0.727036\n",
      "Kidem            0.206278      -0.125200  1.000000  0.322796  0.117964\n",
      "Puan            -0.251278       0.034948  0.322796  1.000000  0.201474\n",
      "maas             0.226287       0.727036  0.117964  0.201474  1.000000\n"
     ]
    }
   ],
   "source": [
    "veriler=pd.read_csv(\"maaslar.csv\")\n",
    "x=veriler.iloc[:,2:5]\n",
    "y=veriler.iloc[:,-1:]\n",
    "X=x.values\n",
    "Y=y.values\n",
    "\n",
    "#verilerin içinde string sütunu .corr()'da hata veriyordu. sadece sayısal sütunları almak için numeric_veri kullandım\n",
    "numeric_veri=veriler.select_dtypes(include=\"number\")\n",
    "print(numeric_veri.corr())"
   ]
  },
  {
   "cell_type": "code",
   "execution_count": null,
   "id": "6f81f913",
   "metadata": {},
   "outputs": [],
   "source": [
    "#linear regression\n",
    "from sklearn.linear_model import LinearRegression\n",
    "lin_reg=LinearRegression()\n",
    "lin_reg.fit(X,Y)\n",
    "\n",
    "model=sm.OLS(lin_reg.predict(X),X)\n",
    "print(model.fit().summary())\n",
    "\n"
   ]
  },
  {
   "cell_type": "code",
   "execution_count": null,
   "id": "498d2b5d",
   "metadata": {},
   "outputs": [],
   "source": [
    "#polynomial regression \n",
    "from sklearn.preprocessing import PolynomialFeatures\n",
    "poly_reg=PolynomialFeatures(degree=4)\n",
    "x_poly=poly_reg.fit_transform(X)\n",
    "lin_reg2=LinearRegression()\n",
    "lin_reg2.fit(x_poly,Y)\n",
    "\n",
    "\n",
    "model2 = sm.OLS(lin_reg2.predict(x_poly),X)\n",
    "print(model2.fit().summary())\n"
   ]
  },
  {
   "cell_type": "code",
   "execution_count": 77,
   "id": "cdb62d4d",
   "metadata": {},
   "outputs": [],
   "source": [
    "#verilerin olceklendirilmesi\n",
    "from sklearn.preprocessing import StandardScaler\n",
    "sc1=StandardScaler()\n",
    "x_olcekli=sc1.fit_transform(X)\n",
    "\n",
    "sc2=StandardScaler()\n",
    "y_olcekli=sc2.fit_transform(Y)"
   ]
  },
  {
   "cell_type": "code",
   "execution_count": null,
   "id": "6ef51913",
   "metadata": {},
   "outputs": [],
   "source": [
    "#Support Vector Regression\n",
    "from sklearn.svm import SVR\n",
    "svr_reg=SVR(kernel=\"rbf\") #\"linear\",\"sigmoid\"...\n",
    "svr_reg.fit(x_olcekli,y_olcekli.ravel())\n",
    "\n",
    "model3=sm.OLS(svr_reg.predict(x_olcekli),x_olcekli)\n",
    "print(model3.fit().summary())\n"
   ]
  },
  {
   "cell_type": "code",
   "execution_count": null,
   "id": "b5e4d9f9",
   "metadata": {},
   "outputs": [],
   "source": [
    "#Decision Tree\n",
    "from sklearn.tree import DecisionTreeRegressor\n",
    "dt_reg=DecisionTreeRegressor(random_state=0)\n",
    "dt_reg.fit(X,Y)\n",
    "\n",
    "model4=sm.OLS(dt_reg.predict(X),X)\n",
    "print(model4.fit().summary())"
   ]
  },
  {
   "cell_type": "code",
   "execution_count": null,
   "id": "ce05143e",
   "metadata": {},
   "outputs": [],
   "source": [
    "#Random Forest\n",
    "from sklearn.ensemble import RandomForestRegressor\n",
    "rf_reg=RandomForestRegressor(n_estimators=10,random_state=0)\n",
    "rf_reg.fit(X,Y.ravel())\n",
    "\n",
    "model5=sm.OLS(rf_reg.predict(X),X)\n",
    "print(model5.fit().summary())\n"
   ]
  },
  {
   "cell_type": "code",
   "execution_count": null,
   "id": "da4f65ee",
   "metadata": {},
   "outputs": [],
   "source": [
    "'''\n",
    "Tek Parametreli Olarak;\n",
    "\n",
    "Linear \n",
    "R-Squared:                      0.942\n",
    "\n",
    "Polynomial\n",
    "R-Squared:                      0.759\n",
    "\n",
    "SVR\n",
    "R-Squared:                      0.770\n",
    "\n",
    "DT\n",
    "R-Squared:                      0.751\n",
    "\n",
    "RF\n",
    "R-Squared:                      0.719\n",
    "\n",
    "3 Parametreli Olarak;\n",
    "\n",
    "Linear \n",
    "R-Squared:                      0.903\n",
    "\n",
    "Polynomial\n",
    "R-Squared:                      0.680\n",
    "\n",
    "SVR\n",
    "R-Squared:                      0.782\n",
    "\n",
    "DT\n",
    "R-Squared:                      0.679\n",
    "\n",
    "RF\n",
    "R-Squared:                      0.713\n",
    "'''"
   ]
  }
 ],
 "metadata": {
  "kernelspec": {
   "display_name": "Python 3",
   "language": "python",
   "name": "python3"
  },
  "language_info": {
   "codemirror_mode": {
    "name": "ipython",
    "version": 3
   },
   "file_extension": ".py",
   "mimetype": "text/x-python",
   "name": "python",
   "nbconvert_exporter": "python",
   "pygments_lexer": "ipython3",
   "version": "3.13.3"
  }
 },
 "nbformat": 4,
 "nbformat_minor": 5
}
