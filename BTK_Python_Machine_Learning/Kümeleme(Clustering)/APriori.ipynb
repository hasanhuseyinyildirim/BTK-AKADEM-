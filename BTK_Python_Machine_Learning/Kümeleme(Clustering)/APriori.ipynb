{
 "cells": [
  {
   "cell_type": "code",
   "execution_count": 1,
   "id": "7fb86e14",
   "metadata": {},
   "outputs": [],
   "source": [
    "import numpy as np\n",
    "import pandas as pd\n",
    "import matplotlib.pyplot as plt"
   ]
  },
  {
   "cell_type": "code",
   "execution_count": 10,
   "id": "cd479af4",
   "metadata": {},
   "outputs": [],
   "source": [
    "veriler=pd.read_csv(\"sepet.csv\",header=None)"
   ]
  },
  {
   "cell_type": "code",
   "execution_count": 18,
   "id": "40e07e9d",
   "metadata": {},
   "outputs": [],
   "source": [
    "t=[]\n",
    "for i in range(0,len(veriler)):\n",
    "    t.append([str(veriler.values[i,j]) for j in range(0,20)])\n"
   ]
  },
  {
   "cell_type": "code",
   "execution_count": null,
   "id": "bef8db17",
   "metadata": {},
   "outputs": [
    {
     "data": {
      "text/plain": [
       "[RelationRecord(items=frozenset({'herb & pepper', 'ground beef'}), support=0.015997866951073192, ordered_statistics=[OrderedStatistic(items_base=frozenset({'herb & pepper'}), items_add=frozenset({'ground beef'}), confidence=0.3234501347708895, lift=3.2919938411349285)]),\n",
       " RelationRecord(items=frozenset({'nan', 'herb & pepper', 'ground beef'}), support=0.015997866951073192, ordered_statistics=[OrderedStatistic(items_base=frozenset({'herb & pepper'}), items_add=frozenset({'nan', 'ground beef'}), confidence=0.3234501347708895, lift=3.2919938411349285), OrderedStatistic(items_base=frozenset({'nan', 'herb & pepper'}), items_add=frozenset({'ground beef'}), confidence=0.3234501347708895, lift=3.2919938411349285)])]"
      ]
     },
     "execution_count": 23,
     "metadata": {},
     "output_type": "execute_result"
    }
   ],
   "source": [
    "from apyori import apriori #githubtan bulduğumuz bir kütüphane\n",
    "kurallar=apriori(t,min_support=0.01,min_confidence=0.2,min_lift=3,min_length=2)\n",
    "list(kurallar)"
   ]
  },
  {
   "cell_type": "code",
   "execution_count": null,
   "id": "3d804c51",
   "metadata": {},
   "outputs": [],
   "source": []
  }
 ],
 "metadata": {
  "kernelspec": {
   "display_name": "Python 3",
   "language": "python",
   "name": "python3"
  },
  "language_info": {
   "codemirror_mode": {
    "name": "ipython",
    "version": 3
   },
   "file_extension": ".py",
   "mimetype": "text/x-python",
   "name": "python",
   "nbconvert_exporter": "python",
   "pygments_lexer": "ipython3",
   "version": "3.13.3"
  }
 },
 "nbformat": 4,
 "nbformat_minor": 5
}
