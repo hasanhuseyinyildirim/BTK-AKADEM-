{
 "cells": [
  {
   "cell_type": "code",
   "execution_count": 4,
   "id": "f4884460",
   "metadata": {},
   "outputs": [],
   "source": [
    "import numpy as np\n",
    "import pandas as pd\n",
    "import matplotlib.pyplot as plt\n",
    "\n",
    "veriler=pd.read_csv(\"Social_Network_Ads.csv\")\n",
    "X=veriler.iloc[:,2:4].values\n",
    "y=veriler.iloc[:,4].values"
   ]
  },
  {
   "cell_type": "code",
   "execution_count": 5,
   "id": "c18ade60",
   "metadata": {},
   "outputs": [
    {
     "name": "stdout",
     "output_type": "stream",
     "text": [
      "[[76  8]\n",
      " [ 4 44]]\n"
     ]
    }
   ],
   "source": [
    "from sklearn.model_selection import train_test_split\n",
    "X_train,X_test,y_train,y_test=train_test_split(X,y,test_size=0.33,random_state=0)\n",
    "\n",
    "from sklearn.preprocessing import StandardScaler\n",
    "sc=StandardScaler()\n",
    "X_train=sc.fit_transform(X_train)\n",
    "X_test=sc.transform(X_test)\n",
    "\n",
    "from sklearn.svm import SVC\n",
    "classifier=SVC(kernel=\"rbf\",random_state=0)\n",
    "classifier.fit(X_train,y_train)\n",
    "\n",
    "y_pred=classifier.predict(X_test)\n",
    "\n",
    "from sklearn.metrics import confusion_matrix\n",
    "cm=confusion_matrix(y_test,y_pred)\n",
    "print(cm)"
   ]
  },
  {
   "cell_type": "code",
   "execution_count": 6,
   "id": "58687d84",
   "metadata": {},
   "outputs": [
    {
     "name": "stdout",
     "output_type": "stream",
     "text": [
      "0.9183760683760683\n",
      "{'C': 1, 'gamma': 1, 'kernel': 'rbf'}\n"
     ]
    }
   ],
   "source": [
    "#parametre optimizasyonu ve algoritma seçimi\n",
    "from sklearn.model_selection import GridSearchCV\n",
    "p=[{\"C\":[1,2,3,4,5],\"kernel\":[\"linear\"]},\n",
    "   {\"C\":[1,10,100,1000],\"kernel\":[\"rbf\"],\"gamma\":[1,0.5,0.1,0.01,0.001]} ]\n",
    "\n",
    "gs=GridSearchCV(estimator=classifier,param_grid=p,scoring=\"accuracy\",cv=10,n_jobs=-1)\n",
    "\n",
    "grid_search=gs.fit(X_train,y_train)\n",
    "\n",
    "eniyisonuc=grid_search.best_score_\n",
    "eniyiparametreler=grid_search.best_params_\n",
    "\n",
    "print(eniyisonuc)\n",
    "print(eniyiparametreler)\n"
   ]
  }
 ],
 "metadata": {
  "kernelspec": {
   "display_name": "Python 3",
   "language": "python",
   "name": "python3"
  },
  "language_info": {
   "codemirror_mode": {
    "name": "ipython",
    "version": 3
   },
   "file_extension": ".py",
   "mimetype": "text/x-python",
   "name": "python",
   "nbconvert_exporter": "python",
   "pygments_lexer": "ipython3",
   "version": "3.13.3"
  }
 },
 "nbformat": 4,
 "nbformat_minor": 5
}
